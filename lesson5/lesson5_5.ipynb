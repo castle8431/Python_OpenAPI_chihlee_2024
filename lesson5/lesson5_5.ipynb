{
 "cells": [
  {
   "cell_type": "code",
   "execution_count": 2,
   "metadata": {},
   "outputs": [
    {
     "name": "stdout",
     "output_type": "stream",
     "text": [
      "0\n",
      "1\n",
      "2\n",
      "3\n"
     ]
    }
   ],
   "source": [
    "#set元素不能重複\n",
    "set1 = {0, 0, 1, 1, 2, 2, 3, 3}\n",
    "for item in list(set1):\n",
    "    print(item)"
   ]
  },
  {
   "cell_type": "markdown",
   "metadata": {},
   "source": [
    "大樂透function 1-49\n",
    "亂數random, 不能重複用set, 用while迴圈(因為不知道一直建立會重複幾個),檢查長度len為7,最後再轉list排序(由小到大), (還沒排序之前先抓出最後一個特別號),剩下六個排序自動選號"
   ]
  },
  {
   "cell_type": "code",
   "execution_count": 8,
   "metadata": {},
   "outputs": [
    {
     "data": {
      "text/plain": [
       "[21, 12, 48, 26, 14, 19, 1]"
      ]
     },
     "execution_count": 8,
     "metadata": {},
     "output_type": "execute_result"
    }
   ],
   "source": [
    "import random\n",
    "lottery:list = random.sample(range(49), k=7)\n",
    "lottery\n",
    "\n",
    "\n"
   ]
  },
  {
   "cell_type": "code",
   "execution_count": 13,
   "metadata": {},
   "outputs": [
    {
     "name": "stdout",
     "output_type": "stream",
     "text": [
      "本期大樂透電腦選號號碼如下:\n",
      "16 26 40 41 42 48 13\n",
      "特別號: 13\n"
     ]
    }
   ],
   "source": [
    "import random\n",
    "\n",
    "def main():\n",
    "    listRandom = random.sample(range(1, 49), 7)\n",
    "    numSpecial = listRandom[-1]\n",
    "    listRandom.pop()\n",
    "    listRandom.sort()\n",
    "    print(\"本期大樂透電腦選號號碼如下:\")\n",
    "    for element in listRandom:\n",
    "        print(element, end=\" \")\n",
    "    print(numSpecial)\n",
    "    print(\"特別號:\", numSpecial)\n",
    "\n",
    "if __name__ == '__main__':\n",
    "    main()"
   ]
  }
 ],
 "metadata": {
  "kernelspec": {
   "display_name": "base",
   "language": "python",
   "name": "python3"
  },
  "language_info": {
   "codemirror_mode": {
    "name": "ipython",
    "version": 3
   },
   "file_extension": ".py",
   "mimetype": "text/x-python",
   "name": "python",
   "nbconvert_exporter": "python",
   "pygments_lexer": "ipython3",
   "version": "3.12.2"
  }
 },
 "nbformat": 4,
 "nbformat_minor": 2
}
