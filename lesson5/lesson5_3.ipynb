{
 "cells": [
  {
   "cell_type": "code",
   "execution_count": 2,
   "metadata": {},
   "outputs": [
    {
     "name": "stdout",
     "output_type": "stream",
     "text": [
      "Banana\n",
      "10\n",
      "===========\n",
      "Apple\n",
      "20\n",
      "===========\n",
      "Cherry\n",
      "30\n",
      "===========\n"
     ]
    }
   ],
   "source": [
    "class Item:\n",
    "    def __init__(self, name:str, price:int):\n",
    "        self.name = name\n",
    "        self.price = price\n",
    "\n",
    "items = [Item(\"Apple\",20),\n",
    "         Item(\"Banana\",10),\n",
    "         Item(\"Cherry\",30)\n",
    "         ]\n",
    "\n",
    "def abc(x:Item)->int:\n",
    "    return x.price\n",
    "\n",
    "NewItems = sorted(items, key=abc)\n",
    "for item in NewItems:\n",
    "    print(item.name)\n",
    "    print(item.price)\n",
    "    print(\"===========\")"
   ]
  },
  {
   "cell_type": "code",
   "execution_count": null,
   "metadata": {},
   "outputs": [
    {
     "name": "stdout",
     "output_type": "stream",
     "text": [
      "Banana\n",
      "10\n",
      "===========\n",
      "Apple\n",
      "20\n",
      "===========\n",
      "Cherry\n",
      "30\n",
      "===========\n"
     ]
    }
   ],
   "source": [
    "class Item:\n",
    "    def __init__(self, name:str, price:int):\n",
    "        self.name = name\n",
    "        self.price = price\n",
    "\n",
    "items = [Item(\"Apple\",20),\n",
    "         Item(\"Banana\",10),\n",
    "         Item(\"Cherry\",30)\n",
    "         ]\n",
    "\n",
    "#def abc(x:Item)->int:\n",
    "#    return x.price\n",
    "\n",
    "NewItems = sorted(items, key=lambda x:x.price) #lamba匿名function, 自動傳出值return\n",
    "for item in NewItems:\n",
    "    print(item.name)\n",
    "    print(item.price)\n",
    "    print(\"===========\")"
   ]
  }
 ],
 "metadata": {
  "kernelspec": {
   "display_name": "base",
   "language": "python",
   "name": "python3"
  },
  "language_info": {
   "codemirror_mode": {
    "name": "ipython",
    "version": 3
   },
   "file_extension": ".py",
   "mimetype": "text/x-python",
   "name": "python",
   "nbconvert_exporter": "python",
   "pygments_lexer": "ipython3",
   "version": "3.12.2"
  }
 },
 "nbformat": 4,
 "nbformat_minor": 2
}
