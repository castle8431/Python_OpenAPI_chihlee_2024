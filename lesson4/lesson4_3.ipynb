{
 "cells": [
  {
   "cell_type": "code",
   "execution_count": 3,
   "metadata": {},
   "outputs": [],
   "source": [
    "#class可以儲存資料 屬性attribute/property, 功能 方法(method)\n",
    "class Person(): \n",
    "#class Person(object):\n",
    "    def __init__(self):\n",
    "    #初始化(寫法固定這樣寫) self:來執行我的那個實體\n",
    "        self.name = \"徐國堂\"\n",
    "        self.age = 35\n",
    "\n",
    "#class修改要執行過一次才會改變\n",
    "#name,age是attribute\n",
    "#自訂class一般都大寫"
   ]
  },
  {
   "cell_type": "code",
   "execution_count": 2,
   "metadata": {},
   "outputs": [
    {
     "name": "stdout",
     "output_type": "stream",
     "text": [
      "徐國堂\n",
      "35\n"
     ]
    }
   ],
   "source": [
    "p1 = Person()\n",
    "print(p1.name)\n",
    "print(p1.age)"
   ]
  },
  {
   "cell_type": "code",
   "execution_count": 17,
   "metadata": {},
   "outputs": [
    {
     "name": "stdout",
     "output_type": "stream",
     "text": [
      "徐國堂\n",
      "35\n"
     ]
    }
   ],
   "source": [
    "p2 = Person()\n",
    "print(p2.name)\n",
    "print(p2.age)"
   ]
  },
  {
   "cell_type": "code",
   "execution_count": null,
   "metadata": {},
   "outputs": [],
   "source": [
    "class Person(): \n",
    "    def __init__(self,name:str,age:int):\n",
    "        self.name = name #attribute\n",
    "        self.age = age #attribute\n",
    "\n",
    "    #實體方法(instance method)\n",
    "    def echo(self):\n",
    "        print(f\"我的名字是{self.name}\")\n",
    "        print(f'我的年齡是{self.age}')\n",
    "\n",
    "#echo:method"
   ]
  },
  {
   "cell_type": "code",
   "execution_count": 25,
   "metadata": {},
   "outputs": [
    {
     "name": "stdout",
     "output_type": "stream",
     "text": [
      "徐國堂\n",
      "35\n",
      "我的名字是徐國堂\n",
      "我的年齡是35\n"
     ]
    }
   ],
   "source": [
    "p1 = Person(\"徐國堂\", age=35)\n",
    "print(p1.name)\n",
    "print(p1.age)\n",
    "\n",
    "p1.echo()"
   ]
  },
  {
   "cell_type": "code",
   "execution_count": 26,
   "metadata": {},
   "outputs": [
    {
     "name": "stdout",
     "output_type": "stream",
     "text": [
      "robert\n",
      "34\n",
      "我的名字是robert\n",
      "我的年齡是34\n"
     ]
    }
   ],
   "source": [
    "p2 = Person(age='34',name='robert')\n",
    "print(p2.name)\n",
    "print(p2.age)\n",
    "\n",
    "p2.echo()"
   ]
  }
 ],
 "metadata": {
  "kernelspec": {
   "display_name": "base",
   "language": "python",
   "name": "python3"
  },
  "language_info": {
   "codemirror_mode": {
    "name": "ipython",
    "version": 3
   },
   "file_extension": ".py",
   "mimetype": "text/x-python",
   "name": "python",
   "nbconvert_exporter": "python",
   "pygments_lexer": "ipython3",
   "version": "3.12.4"
  }
 },
 "nbformat": 4,
 "nbformat_minor": 2
}
