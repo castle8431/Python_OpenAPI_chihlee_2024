{
 "cells": [
  {
   "cell_type": "markdown",
   "metadata": {},
   "source": [
    "python\n",
    "*數學運算\n",
    "*流程控制<--\n",
    "*資料結構\n",
    "\n",
    "#建立小遊戲\n",
    "使用內建function / 內建工具箱(module,package)import\n",
    "math 工具箱\n"
   ]
  },
  {
   "cell_type": "code",
   "execution_count": 2,
   "metadata": {},
   "outputs": [
    {
     "name": "stdout",
     "output_type": "stream",
     "text": [
      "===========猜數字遊戲=============\n",
      "\n",
      "再大一點\n",
      "您已經猜了1次\n",
      "再大一點\n",
      "您已經猜了2次\n",
      "再大一點\n",
      "您已經猜了3次\n",
      "再小一點\n",
      "您已經猜了4次\n",
      "再小一點\n",
      "您已經猜了5次\n",
      "再小一點\n",
      "您已經猜了6次\n",
      "賓果!猜對了, 答案是:82\n",
      "您猜了7次\n",
      "應用程式結束\n"
     ]
    }
   ],
   "source": [
    "#工具箱random 生成偽隨機數\n",
    "#回傳整數的函式 random.randint 回傳一個隨機整數N\n",
    "import random\n",
    "min = 1\n",
    "max = 100\n",
    "target = random.randint(min, max)\n",
    "count = 0\n",
    "print(\"===========猜數字遊戲=============\\n\")\n",
    "while(True):\n",
    "    keyin = int(input(f\"猜數字範圍{min}~{max}:\"))\n",
    "    count += 1\n",
    "    if keyin <= max and keyin >= min:\n",
    "        if target == keyin:\n",
    "            print(f\"賓果!猜對了, 答案是:{target}\")\n",
    "            print(f\"您猜了{count}次\")\n",
    "            break\n",
    "        elif keyin > target:\n",
    "            print('再小一點')\n",
    "            max = keyin-1\n",
    "            \n",
    "        elif keyin < target:\n",
    "            print('再大一點')\n",
    "            min = keyin + 1\n",
    "            \n",
    "        print(f'您已經猜了{count}次')        \n",
    "            \n",
    "    else:\n",
    "        print(\"輸入範圍有錯誤!\")\n",
    "        \n",
    "print(\"應用程式結束\")"
   ]
  },
  {
   "cell_type": "code",
   "execution_count": 5,
   "metadata": {},
   "outputs": [
    {
     "name": "stdout",
     "output_type": "stream",
     "text": [
      "再小一點\n",
      "您已經猜了1次\n",
      "再小一點\n",
      "您已經猜了2次\n",
      "再小一點\n",
      "您已經猜了3次\n",
      "再大一點\n",
      "您已經猜了4次\n",
      "再大一點\n",
      "您已經猜了5次\n",
      "再大一點\n",
      "您已經猜了6次\n",
      "再小一點\n",
      "您已經猜了7次\n",
      "賓果!恭喜您猜對了,答案是:27\n",
      "應用程式結束\n"
     ]
    }
   ],
   "source": [
    "\n",
    "min = 0\n",
    "max = 100\n",
    "count = 0\n",
    "while(True):\n",
    "    keyin = int(input(f\"猜數字範圍{min}~{max}:\"))\n",
    "    target = random.randint(min,max)\n",
    "    count += 1\n",
    "    if target >= min and target <= max:\n",
    "        if keyin == target:\n",
    "            print(f\"賓果!恭喜您猜對了,答案是:{target}\")\n",
    "            break\n",
    "        elif keyin < target:\n",
    "            min = keyin + 1\n",
    "            print(\"再大一點\")\n",
    "        elif keyin > target:\n",
    "            max = keyin - 1\n",
    "            print(\"再小一點\")\n",
    "        print(f\"您已經猜了{count}次\")\n",
    "    else:\n",
    "        print(\"輸入的範圍錯誤,請重新輸入\")\n",
    "print(\"應用程式結束\")\n",
    "    "
   ]
  },
  {
   "cell_type": "code",
   "execution_count": null,
   "metadata": {},
   "outputs": [],
   "source": []
  }
 ],
 "metadata": {
  "kernelspec": {
   "display_name": "base",
   "language": "python",
   "name": "python3"
  },
  "language_info": {
   "codemirror_mode": {
    "name": "ipython",
    "version": 3
   },
   "file_extension": ".py",
   "mimetype": "text/x-python",
   "name": "python",
   "nbconvert_exporter": "python",
   "pygments_lexer": "ipython3",
   "version": "3.12.7"
  }
 },
 "nbformat": 4,
 "nbformat_minor": 2
}
