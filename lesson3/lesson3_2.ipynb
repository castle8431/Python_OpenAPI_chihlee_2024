{
 "cells": [
  {
   "cell_type": "markdown",
   "metadata": {},
   "source": [
    "python\n",
    "*數學運算\n",
    "*流程控制\n",
    "*資料結構\n",
    "\n",
    "#建立小遊戲\n",
    "使用內建function / 內建工具箱(module,package)import\n",
    "math 工具箱\n"
   ]
  },
  {
   "cell_type": "code",
   "execution_count": null,
   "metadata": {},
   "outputs": [
    {
     "name": "stdout",
     "output_type": "stream",
     "text": [
      "===========猜數字遊戲============\n"
     ]
    }
   ],
   "source": [
    "#工具箱random 生成偽隨機數\n",
    "#回傳整數的函式 random.randint 回傳一個隨機整數N\n",
    "import random\n",
    "\n",
    "min = 1\n",
    "max = 100\n",
    "target = random.randint(min, max)\n",
    "target\n",
    "print(\"===========猜數字遊戲============\")"
   ]
  }
 ],
 "metadata": {
  "kernelspec": {
   "display_name": "base",
   "language": "python",
   "name": "python3"
  },
  "language_info": {
   "codemirror_mode": {
    "name": "ipython",
    "version": 3
   },
   "file_extension": ".py",
   "mimetype": "text/x-python",
   "name": "python",
   "nbconvert_exporter": "python",
   "pygments_lexer": "ipython3",
   "version": "3.12.7"
  }
 },
 "nbformat": 4,
 "nbformat_minor": 2
}
